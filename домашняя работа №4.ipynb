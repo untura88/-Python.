{
 "cells": [
  {
   "cell_type": "code",
   "execution_count": 2,
   "id": "97e15dd6",
   "metadata": {},
   "outputs": [
    {
     "name": "stdout",
     "output_type": "stream",
     "text": [
      "введите операцию:/\n",
      "2\n"
     ]
    }
   ],
   "source": [
    "def precedence(x):\n",
    "    if x==\"+\" or x==\"-\":\n",
    "        return 1\n",
    "    elif x==\"*\"or x==\"/\":\n",
    "        return 2\n",
    "    elif x==\"^\":\n",
    "        return 3\n",
    "    else:\n",
    "        return -1\n",
    "a=input(\"введите операцию:\")\n",
    "print(precedence(a))"
   ]
  },
  {
   "cell_type": "code",
   "execution_count": 25,
   "id": "33cb0b24",
   "metadata": {},
   "outputs": [
    {
     "name": "stdout",
     "output_type": "stream",
     "text": [
      "vvedite god:2015\n",
      "vvedite meseac:2\n",
      "28\n"
     ]
    }
   ],
   "source": [
    "def god(year):\n",
    "    if year % 400 == 0: \n",
    "        return True\n",
    "    elif year % 100 == 0: \n",
    "        return False\n",
    "    elif year % 4 == 0:\n",
    "        return True\n",
    "    else:\n",
    "        return False\n",
    "def day(month,year):\n",
    "    if god(year)and month==2:\n",
    "        return 29\n",
    "    elif month==2:\n",
    "        return 28\n",
    "    if month==4 or month==6 or month==9 or month==11:\n",
    "        return 30\n",
    "    else:\n",
    "        return 31\n",
    "y=int(input(\"vvedite god:\"))\n",
    "m=int(input(\"vvedite meseac:\"))\n",
    "print(day(m,y))"
   ]
  },
  {
   "cell_type": "code",
   "execution_count": null,
   "id": "9a9e9ac1",
   "metadata": {},
   "outputs": [],
   "source": []
  }
 ],
 "metadata": {
  "kernelspec": {
   "display_name": "Python 3 (ipykernel)",
   "language": "python",
   "name": "python3"
  },
  "language_info": {
   "codemirror_mode": {
    "name": "ipython",
    "version": 3
   },
   "file_extension": ".py",
   "mimetype": "text/x-python",
   "name": "python",
   "nbconvert_exporter": "python",
   "pygments_lexer": "ipython3",
   "version": "3.7.9"
  }
 },
 "nbformat": 4,
 "nbformat_minor": 5
}
