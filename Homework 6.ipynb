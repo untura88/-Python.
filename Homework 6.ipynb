{
 "cells": [
  {
   "cell_type": "code",
   "execution_count": 1,
   "id": "d6a20982",
   "metadata": {},
   "outputs": [],
   "source": [
    "import numpy as np\n",
    "import pandas as pd\n",
    "import matplotlib.pyplot as plt\n",
    "import seaborn as sns"
   ]
  },
  {
   "cell_type": "code",
   "execution_count": 2,
   "id": "f9d8ac79",
   "metadata": {},
   "outputs": [
    {
     "data": {
      "text/html": [
       "<div>\n",
       "<style scoped>\n",
       "    .dataframe tbody tr th:only-of-type {\n",
       "        vertical-align: middle;\n",
       "    }\n",
       "\n",
       "    .dataframe tbody tr th {\n",
       "        vertical-align: top;\n",
       "    }\n",
       "\n",
       "    .dataframe thead th {\n",
       "        text-align: right;\n",
       "    }\n",
       "</style>\n",
       "<table border=\"1\" class=\"dataframe\">\n",
       "  <thead>\n",
       "    <tr style=\"text-align: right;\">\n",
       "      <th></th>\n",
       "      <th>u_q</th>\n",
       "      <th>coolant</th>\n",
       "      <th>stator_winding</th>\n",
       "      <th>u_d</th>\n",
       "      <th>stator_tooth</th>\n",
       "      <th>motor_speed</th>\n",
       "      <th>i_d</th>\n",
       "      <th>i_q</th>\n",
       "      <th>pm</th>\n",
       "      <th>stator_yoke</th>\n",
       "      <th>ambient</th>\n",
       "      <th>torque</th>\n",
       "      <th>profile_id</th>\n",
       "    </tr>\n",
       "  </thead>\n",
       "  <tbody>\n",
       "    <tr>\n",
       "      <th>0</th>\n",
       "      <td>-0.450682</td>\n",
       "      <td>18.805172</td>\n",
       "      <td>19.086670</td>\n",
       "      <td>-0.350055</td>\n",
       "      <td>18.293219</td>\n",
       "      <td>0.002866</td>\n",
       "      <td>0.004419</td>\n",
       "      <td>0.000328</td>\n",
       "      <td>24.554214</td>\n",
       "      <td>18.316547</td>\n",
       "      <td>19.850691</td>\n",
       "      <td>1.871008e-01</td>\n",
       "      <td>17</td>\n",
       "    </tr>\n",
       "    <tr>\n",
       "      <th>1</th>\n",
       "      <td>-0.325737</td>\n",
       "      <td>18.818571</td>\n",
       "      <td>19.092390</td>\n",
       "      <td>-0.305803</td>\n",
       "      <td>18.294807</td>\n",
       "      <td>0.000257</td>\n",
       "      <td>0.000606</td>\n",
       "      <td>-0.000785</td>\n",
       "      <td>24.538078</td>\n",
       "      <td>18.314955</td>\n",
       "      <td>19.850672</td>\n",
       "      <td>2.454175e-01</td>\n",
       "      <td>17</td>\n",
       "    </tr>\n",
       "    <tr>\n",
       "      <th>2</th>\n",
       "      <td>-0.440864</td>\n",
       "      <td>18.828770</td>\n",
       "      <td>19.089380</td>\n",
       "      <td>-0.372503</td>\n",
       "      <td>18.294094</td>\n",
       "      <td>0.002355</td>\n",
       "      <td>0.001290</td>\n",
       "      <td>0.000386</td>\n",
       "      <td>24.544693</td>\n",
       "      <td>18.326307</td>\n",
       "      <td>19.850657</td>\n",
       "      <td>1.766153e-01</td>\n",
       "      <td>17</td>\n",
       "    </tr>\n",
       "    <tr>\n",
       "      <th>3</th>\n",
       "      <td>-0.327026</td>\n",
       "      <td>18.835567</td>\n",
       "      <td>19.083031</td>\n",
       "      <td>-0.316199</td>\n",
       "      <td>18.292542</td>\n",
       "      <td>0.006105</td>\n",
       "      <td>0.000026</td>\n",
       "      <td>0.002046</td>\n",
       "      <td>24.554018</td>\n",
       "      <td>18.330833</td>\n",
       "      <td>19.850647</td>\n",
       "      <td>2.383027e-01</td>\n",
       "      <td>17</td>\n",
       "    </tr>\n",
       "    <tr>\n",
       "      <th>4</th>\n",
       "      <td>-0.471150</td>\n",
       "      <td>18.857033</td>\n",
       "      <td>19.082525</td>\n",
       "      <td>-0.332272</td>\n",
       "      <td>18.291428</td>\n",
       "      <td>0.003133</td>\n",
       "      <td>-0.064317</td>\n",
       "      <td>0.037184</td>\n",
       "      <td>24.565397</td>\n",
       "      <td>18.326662</td>\n",
       "      <td>19.850639</td>\n",
       "      <td>2.081967e-01</td>\n",
       "      <td>17</td>\n",
       "    </tr>\n",
       "    <tr>\n",
       "      <th>...</th>\n",
       "      <td>...</td>\n",
       "      <td>...</td>\n",
       "      <td>...</td>\n",
       "      <td>...</td>\n",
       "      <td>...</td>\n",
       "      <td>...</td>\n",
       "      <td>...</td>\n",
       "      <td>...</td>\n",
       "      <td>...</td>\n",
       "      <td>...</td>\n",
       "      <td>...</td>\n",
       "      <td>...</td>\n",
       "      <td>...</td>\n",
       "    </tr>\n",
       "    <tr>\n",
       "      <th>1330811</th>\n",
       "      <td>-2.152128</td>\n",
       "      <td>30.721298</td>\n",
       "      <td>45.274497</td>\n",
       "      <td>0.791801</td>\n",
       "      <td>41.934347</td>\n",
       "      <td>0.000380</td>\n",
       "      <td>-2.000169</td>\n",
       "      <td>1.097528</td>\n",
       "      <td>62.147780</td>\n",
       "      <td>38.653720</td>\n",
       "      <td>23.989078</td>\n",
       "      <td>-8.116730e-60</td>\n",
       "      <td>71</td>\n",
       "    </tr>\n",
       "    <tr>\n",
       "      <th>1330812</th>\n",
       "      <td>-2.258684</td>\n",
       "      <td>30.721306</td>\n",
       "      <td>45.239017</td>\n",
       "      <td>0.778900</td>\n",
       "      <td>41.868923</td>\n",
       "      <td>0.002985</td>\n",
       "      <td>-2.000499</td>\n",
       "      <td>1.097569</td>\n",
       "      <td>62.142646</td>\n",
       "      <td>38.656328</td>\n",
       "      <td>23.970700</td>\n",
       "      <td>-5.815891e-60</td>\n",
       "      <td>71</td>\n",
       "    </tr>\n",
       "    <tr>\n",
       "      <th>1330813</th>\n",
       "      <td>-2.130312</td>\n",
       "      <td>30.721312</td>\n",
       "      <td>45.211576</td>\n",
       "      <td>0.804914</td>\n",
       "      <td>41.804819</td>\n",
       "      <td>0.002301</td>\n",
       "      <td>-1.999268</td>\n",
       "      <td>1.098765</td>\n",
       "      <td>62.138387</td>\n",
       "      <td>38.650923</td>\n",
       "      <td>23.977234</td>\n",
       "      <td>-4.167268e-60</td>\n",
       "      <td>71</td>\n",
       "    </tr>\n",
       "    <tr>\n",
       "      <th>1330814</th>\n",
       "      <td>-2.268498</td>\n",
       "      <td>30.721316</td>\n",
       "      <td>45.193508</td>\n",
       "      <td>0.763091</td>\n",
       "      <td>41.762220</td>\n",
       "      <td>0.005662</td>\n",
       "      <td>-2.000999</td>\n",
       "      <td>1.095696</td>\n",
       "      <td>62.133422</td>\n",
       "      <td>38.655686</td>\n",
       "      <td>24.001421</td>\n",
       "      <td>-2.985978e-60</td>\n",
       "      <td>71</td>\n",
       "    </tr>\n",
       "    <tr>\n",
       "      <th>1330815</th>\n",
       "      <td>-2.100158</td>\n",
       "      <td>30.721319</td>\n",
       "      <td>45.132307</td>\n",
       "      <td>0.807309</td>\n",
       "      <td>41.734763</td>\n",
       "      <td>0.004395</td>\n",
       "      <td>-2.000792</td>\n",
       "      <td>1.096487</td>\n",
       "      <td>62.131429</td>\n",
       "      <td>38.660370</td>\n",
       "      <td>24.027522</td>\n",
       "      <td>-2.139547e-60</td>\n",
       "      <td>71</td>\n",
       "    </tr>\n",
       "  </tbody>\n",
       "</table>\n",
       "<p>1330816 rows × 13 columns</p>\n",
       "</div>"
      ],
      "text/plain": [
       "              u_q    coolant  stator_winding       u_d  stator_tooth  \\\n",
       "0       -0.450682  18.805172       19.086670 -0.350055     18.293219   \n",
       "1       -0.325737  18.818571       19.092390 -0.305803     18.294807   \n",
       "2       -0.440864  18.828770       19.089380 -0.372503     18.294094   \n",
       "3       -0.327026  18.835567       19.083031 -0.316199     18.292542   \n",
       "4       -0.471150  18.857033       19.082525 -0.332272     18.291428   \n",
       "...           ...        ...             ...       ...           ...   \n",
       "1330811 -2.152128  30.721298       45.274497  0.791801     41.934347   \n",
       "1330812 -2.258684  30.721306       45.239017  0.778900     41.868923   \n",
       "1330813 -2.130312  30.721312       45.211576  0.804914     41.804819   \n",
       "1330814 -2.268498  30.721316       45.193508  0.763091     41.762220   \n",
       "1330815 -2.100158  30.721319       45.132307  0.807309     41.734763   \n",
       "\n",
       "         motor_speed       i_d       i_q         pm  stator_yoke    ambient  \\\n",
       "0           0.002866  0.004419  0.000328  24.554214    18.316547  19.850691   \n",
       "1           0.000257  0.000606 -0.000785  24.538078    18.314955  19.850672   \n",
       "2           0.002355  0.001290  0.000386  24.544693    18.326307  19.850657   \n",
       "3           0.006105  0.000026  0.002046  24.554018    18.330833  19.850647   \n",
       "4           0.003133 -0.064317  0.037184  24.565397    18.326662  19.850639   \n",
       "...              ...       ...       ...        ...          ...        ...   \n",
       "1330811     0.000380 -2.000169  1.097528  62.147780    38.653720  23.989078   \n",
       "1330812     0.002985 -2.000499  1.097569  62.142646    38.656328  23.970700   \n",
       "1330813     0.002301 -1.999268  1.098765  62.138387    38.650923  23.977234   \n",
       "1330814     0.005662 -2.000999  1.095696  62.133422    38.655686  24.001421   \n",
       "1330815     0.004395 -2.000792  1.096487  62.131429    38.660370  24.027522   \n",
       "\n",
       "               torque  profile_id  \n",
       "0        1.871008e-01          17  \n",
       "1        2.454175e-01          17  \n",
       "2        1.766153e-01          17  \n",
       "3        2.383027e-01          17  \n",
       "4        2.081967e-01          17  \n",
       "...               ...         ...  \n",
       "1330811 -8.116730e-60          71  \n",
       "1330812 -5.815891e-60          71  \n",
       "1330813 -4.167268e-60          71  \n",
       "1330814 -2.985978e-60          71  \n",
       "1330815 -2.139547e-60          71  \n",
       "\n",
       "[1330816 rows x 13 columns]"
      ]
     },
     "execution_count": 2,
     "metadata": {},
     "output_type": "execute_result"
    }
   ],
   "source": [
    "df=pd.read_csv('measures_v2.csv')\n",
    "df"
   ]
  },
  {
   "cell_type": "code",
   "execution_count": 3,
   "id": "be4f91ff",
   "metadata": {},
   "outputs": [],
   "source": [
    "X=df.drop(['pm'],axis=1).values\n",
    "Y=df['pm'].values"
   ]
  },
  {
   "cell_type": "code",
   "execution_count": 8,
   "id": "fdf322c7",
   "metadata": {},
   "outputs": [
    {
     "data": {
      "text/plain": [
       "86.033969    31\n",
       "86.030213     9\n",
       "86.055580     5\n",
       "35.600800     4\n",
       "43.429565     4\n",
       "             ..\n",
       "93.583710     1\n",
       "93.581154     1\n",
       "93.589134     1\n",
       "93.583763     1\n",
       "62.131429     1\n",
       "Name: pm, Length: 1316978, dtype: int64"
      ]
     },
     "execution_count": 8,
     "metadata": {},
     "output_type": "execute_result"
    }
   ],
   "source": [
    "df['pm'].value_counts()"
   ]
  },
  {
   "cell_type": "code",
   "execution_count": 9,
   "id": "1f0f156d",
   "metadata": {},
   "outputs": [],
   "source": [
    "X_train, X_test,Y_train, Y_test=train_test_split(X,Y)"
   ]
  },
  {
   "cell_type": "code",
   "execution_count": 10,
   "id": "eb1c069a",
   "metadata": {},
   "outputs": [],
   "source": [
    "from sklearn.model_selection import train_test_split\n",
    "from sklearn.metrics import mean_squared_error\n",
    "from sklearn.linear_model import LinearRegression"
   ]
  },
  {
   "cell_type": "code",
   "execution_count": 11,
   "id": "e94f1db5",
   "metadata": {},
   "outputs": [],
   "source": [
    "linear=LinearRegression()\n",
    "linear.fit(X_train,Y_train)\n",
    "y_pred=linear.predict(X_test)"
   ]
  },
  {
   "cell_type": "code",
   "execution_count": 12,
   "id": "1bbb7634",
   "metadata": {},
   "outputs": [
    {
     "data": {
      "text/plain": [
       "<matplotlib.collections.PathCollection at 0x285518d5788>"
      ]
     },
     "execution_count": 12,
     "metadata": {},
     "output_type": "execute_result"
    },
    {
     "data": {
      "image/png": "[encoded data removed]",
      "text/plain": [
       "<Figure size 432x288 with 1 Axes>"
      ]
     },
     "metadata": {
      "needs_background": "light"
     },
     "output_type": "display_data"
    }
   ],
   "source": [
    "plt.scatter(y_pred,Y_test)"
   ]
  },
  {
   "cell_type": "code",
   "execution_count": 13,
   "id": "87bcaa98",
   "metadata": {},
   "outputs": [],
   "source": [
    "from sklearn.preprocessing import StandardScaler"
   ]
  },
  {
   "cell_type": "code",
   "execution_count": 18,
   "id": "0a309a05",
   "metadata": {},
   "outputs": [],
   "source": [
    "scaler=StandardScaler() # преобразуем данные  в единном диапазоне\n",
    "X_train_tr=scaler.fit_transform(X_train)\n",
    "X_test_tr=scaler.transform(X_test)"
   ]
  },
  {
   "cell_type": "code",
   "execution_count": 19,
   "id": "65fa08b9",
   "metadata": {},
   "outputs": [],
   "source": [
    "linear=LinearRegression()\n",
    "linear.fit(X_train_tr,Y_train)\n",
    "y_pred_tr=linear.predict(X_test_tr)"
   ]
  },
  {
   "cell_type": "code",
   "execution_count": 20,
   "id": "70586f94",
   "metadata": {},
   "outputs": [
    {
     "data": {
      "text/plain": [
       "52.225999276605776"
      ]
     },
     "execution_count": 20,
     "metadata": {},
     "output_type": "execute_result"
    }
   ],
   "source": [
    "mean_squared_error(y_pred_tr,Y_test)"
   ]
  },
  {
   "cell_type": "code",
   "execution_count": null,
   "id": "dad914b6",
   "metadata": {},
   "outputs": [],
   "source": []
  }
 ],
 "metadata": {
  "kernelspec": {
   "display_name": "Python 3 (ipykernel)",
   "language": "python",
   "name": "python3"
  },
  "language_info": {
   "codemirror_mode": {
    "name": "ipython",
    "version": 3
   },
   "file_extension": ".py",
   "mimetype": "text/x-python",
   "name": "python",
   "nbconvert_exporter": "python",
   "pygments_lexer": "ipython3",
   "version": "3.7.9"
  }
 },
 "nbformat": 4,
 "nbformat_minor": 5
}
