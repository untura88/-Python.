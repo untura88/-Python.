{
 "cells": [
  {
   "cell_type": "code",
   "execution_count": 9,
   "id": "a5ade115",
   "metadata": {},
   "outputs": [
    {
     "name": "stdout",
     "output_type": "stream",
     "text": [
      "vvedite razmer spiska:4\n",
      "vvedite elementi:-2\n",
      "vvedite elementi:0\n",
      "vvedite elementi:0\n",
      "vvedite elementi:1\n",
      "-2\n",
      "0\n",
      "0\n",
      "[1]\n"
     ]
    }
   ],
   "source": [
    "n=int(input(\"vvedite razmer spiska:\"))\n",
    "otr=[]\n",
    "pol=[]\n",
    "nul=[]\n",
    "\n",
    "for i in range(n):\n",
    "    \n",
    "    cis=int(input(\"vvedite elementi:\"))\n",
    "\n",
    "    if cis<0:\n",
    "        otr.append(cis)\n",
    "    elif cis==0:\n",
    "        nul.append(cis)\n",
    "    else:\n",
    "            pol.append(cis)\n",
    "for i in otr:\n",
    "    print(i)\n",
    "for i in nul:\n",
    "    print(i)\n",
    "for i in pol:\n",
    "    print(i)"
   ]
  },
  {
   "cell_type": "code",
   "execution_count": null,
   "id": "7b7054a0",
   "metadata": {},
   "outputs": [],
   "source": []
  }
 ],
 "metadata": {
  "kernelspec": {
   "display_name": "Python 3 (ipykernel)",
   "language": "python",
   "name": "python3"
  },
  "language_info": {
   "codemirror_mode": {
    "name": "ipython",
    "version": 3
   },
   "file_extension": ".py",
   "mimetype": "text/x-python",
   "name": "python",
   "nbconvert_exporter": "python",
   "pygments_lexer": "ipython3",
   "version": "3.7.9"
  }
 },
 "nbformat": 4,
 "nbformat_minor": 5
}
